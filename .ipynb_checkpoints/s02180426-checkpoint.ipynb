{
 "cells": [
  {
   "cell_type": "markdown",
   "id": "0f9a6570",
   "metadata": {
    "papermill": {
     "duration": 0.010884,
     "end_time": "2022-04-19T12:05:51.508072",
     "exception": false,
     "start_time": "2022-04-19T12:05:51.497188",
     "status": "completed"
    },
    "tags": []
   },
   "source": [
    "### Решение задачи\n",
    "\n",
    "Жердев И.П., 423 группа\n",
    "\n",
    "* практически нет генерации признаков  -- добавил несколько признаков на основе описания данных: разбиение дат на части, разбиение ОКВЭД, успешность заявок на тендеры. Отбросил признак id_contract.\n",
    "* все категории кодируются по мощности -- попробовал LabelEncoder и OneHotEncoder, но это не улучшило результат\n",
    "* пропуски -> -1 -- попробовал заменять на 0, привело к небольшому улучшению\n",
    "* одна модель - lgb -- попробовал также RandomForestClassifier и CatBoostClassifier, но lgb оказался лучше\n",
    "\n",
    "Значительное улучшение показателей дала нормализация признаков:\n",
    "```\n",
    "data=(data-data.mean())/data.std()\n",
    "```\n",
    "\n",
    "Данные разбиваются на обучающую и на проверочную выборки для локальных проверок.\n",
    "\n",
    "Внизу строится график, показывающий \"feature_importances\" признаков в обученной модели.\n",
    "\n",
    "Результат на скрытой выборке - 0.38498, на открытой - 0.3309"
   ]
  },
  {
   "cell_type": "code",
   "execution_count": 1,
   "id": "a6ccde79",
   "metadata": {
    "execution": {
     "iopub.execute_input": "2022-04-19T12:05:51.539358Z",
     "iopub.status.busy": "2022-04-19T12:05:51.538387Z",
     "iopub.status.idle": "2022-04-19T12:05:52.686378Z",
     "shell.execute_reply": "2022-04-19T12:05:52.687095Z",
     "shell.execute_reply.started": "2022-04-19T12:05:00.625828Z"
    },
    "papermill": {
     "duration": 1.169393,
     "end_time": "2022-04-19T12:05:52.687460",
     "exception": false,
     "start_time": "2022-04-19T12:05:51.518067",
     "status": "completed"
    },
    "tags": []
   },
   "outputs": [],
   "source": [
    "# This Python 3 environment comes with many helpful analytics libraries installed\n",
    "# It is defined by the kaggle/python Docker image: https://github.com/kaggle/docker-python\n",
    "# For example, here's several helpful packages to load\n",
    "\n",
    "import numpy as np # linear algebra\n",
    "import pandas as pd # data processing, CSV file I/O (e.g. pd.read_csv)\n",
    "from sklearn.metrics import log_loss\n",
    "from datetime import datetime\n",
    "\n",
    "# Input data files are available in the read-only \"../input/\" directory\n",
    "# For example, running this (by clicking run or pressing Shift+Enter) will list all files under the input directory\n",
    "\n",
    "import os\n",
    "for dirname, _, filenames in os.walk('/kaggle/input'):\n",
    "    for filename in filenames:\n",
    "        print(os.path.join(dirname, filename))\n",
    "\n",
    "# You can write up to 20GB to the current directory (/kaggle/working/) that gets preserved as output when you create a version using \"Save & Run All\" \n",
    "# You can also write temporary files to /kaggle/temp/, but they won't be saved outside of the current session"
   ]
  },
  {
   "cell_type": "code",
   "execution_count": 6,
   "id": "0c9e5e0b",
   "metadata": {
    "execution": {
     "iopub.execute_input": "2022-04-19T12:05:52.725228Z",
     "iopub.status.busy": "2022-04-19T12:05:52.724345Z",
     "iopub.status.idle": "2022-04-19T12:05:53.243599Z",
     "shell.execute_reply": "2022-04-19T12:05:53.244155Z",
     "shell.execute_reply.started": "2022-04-19T12:05:01.752343Z"
    },
    "papermill": {
     "duration": 0.539634,
     "end_time": "2022-04-19T12:05:53.244367",
     "exception": false,
     "start_time": "2022-04-19T12:05:52.704733",
     "status": "completed"
    },
    "tags": []
   },
   "outputs": [
    {
     "name": "stdout",
     "output_type": "stream",
     "text": [
      "(14312, 124) (3579, 124)\n"
     ]
    }
   ],
   "source": [
    "data_train_full = pd.read_csv('./train.csv', delimiter=';')\n",
    "data_test_final = pd.read_csv('./test.csv', delimiter=';')\n",
    "data_test_final_orig = data_test_final.copy()\n",
    "print (data_train_full.shape, data_test_final.shape)"
   ]
  },
  {
   "cell_type": "code",
   "execution_count": 7,
   "id": "841e8b61",
   "metadata": {
    "execution": {
     "iopub.execute_input": "2022-04-19T12:05:53.273677Z",
     "iopub.status.busy": "2022-04-19T12:05:53.273038Z",
     "iopub.status.idle": "2022-04-19T12:05:53.304723Z",
     "shell.execute_reply": "2022-04-19T12:05:53.304206Z",
     "shell.execute_reply.started": "2022-04-19T12:05:02.265422Z"
    },
    "papermill": {
     "duration": 0.050176,
     "end_time": "2022-04-19T12:05:53.304860",
     "exception": false,
     "start_time": "2022-04-19T12:05:53.254684",
     "status": "completed"
    },
    "tags": []
   },
   "outputs": [
    {
     "name": "stdout",
     "output_type": "stream",
     "text": [
      "(12165, 124) (2147, 124)\n"
     ]
    }
   ],
   "source": [
    "data_train = data_train_full.sample(frac=0.85, random_state=25).copy() # Разбиваем на обучающую и тестовую выборку\n",
    "data_test = data_train_full.drop(data_train.index).copy()\n",
    "print (data_train.shape, data_test.shape)"
   ]
  },
  {
   "cell_type": "code",
   "execution_count": 8,
   "id": "9cf982f3",
   "metadata": {
    "execution": {
     "iopub.execute_input": "2022-04-19T12:05:53.329760Z",
     "iopub.status.busy": "2022-04-19T12:05:53.329035Z",
     "iopub.status.idle": "2022-04-19T12:05:53.347155Z",
     "shell.execute_reply": "2022-04-19T12:05:53.346489Z",
     "shell.execute_reply.started": "2022-04-19T12:05:02.304318Z"
    },
    "papermill": {
     "duration": 0.031884,
     "end_time": "2022-04-19T12:05:53.347305",
     "exception": false,
     "start_time": "2022-04-19T12:05:53.315421",
     "status": "completed"
    },
    "tags": []
   },
   "outputs": [],
   "source": [
    "def preprocess_date_feature(data, name):\n",
    "    data[name] = data[name].str.replace('^\\d+$', '', regex=True)\n",
    "    return data\n",
    "\n",
    "def parse_date_feature(data, name):\n",
    "    data[name] = pd.to_datetime(data[name], format='%d%b%Y:%H:%M:%S', errors='coerce')\n",
    "    return data\n",
    "\n",
    "def process_date_feature(data, name):\n",
    "    data[name + \"_day\"] = data[name].dt.day\n",
    "    data[name + \"_month\"] = data[name].dt.month\n",
    "    data[name + \"_year\"] = data[name].dt.year\n",
    "    data[name + '_dayofweek'] = data[name].dt.dayofweek\n",
    "    data[name + '_dayofyear'] = data[name].dt.dayofyear\n",
    "    data[name] = data[name].values.astype(np.int64)\n",
    "    return data\n",
    "\n",
    "def proces_tender(data, name):\n",
    "    data[f'ADMITTED{name}'] = data[f'ADMITTED{name}'].fillna(0)\n",
    "    data[f'WINNER{name}'] = data[f'WINNER{name}'].fillna(0)\n",
    "    data[f'SIGNED{name}'] = data[f'SIGNED{name}'].fillna(0)\n",
    "\n",
    "    func_ratio = lambda x: -1 if x[f'ADMITTED{name}'] == 0 else x[f'WINNER{name}'] / x[f'ADMITTED{name}']\n",
    "    data[f'RATIO_WIN_{name}'] = data[[f'WINNER{name}', f'ADMITTED{name}']].apply(func_ratio, axis=1)\n",
    "    func_ratio = lambda x: -1 if x[f'WINNER{name}'.format(name)] == 0 else x[f'SIGNED{name}'] / x[f'WINNER{name}']\n",
    "    data[f'RATIO_WIN_SIG_tender_{name}'] = data[[f'WINNER{name}', f'SIGNED{name}']].apply(func_ratio, axis=1)\n",
    "\n",
    "def makeX(data):\n",
    "    # предобработка данных\n",
    "    data['CITIZENSHIP_NAME'] = data['CITIZENSHIP_NAME'].fillna(-1).map({-1: -1, 'Российская Федерация': 4, 'Таджикистан': 3, 'Казахстан': 2, 'Армения': 1})\n",
    "    data['SEX_NAME'] = data['SEX_NAME'].fillna(0).map({0: 0, 'мужской': 1, 'женский': -1})\n",
    "    group_names = ['OKFS_GROUP', 'OKOPF_GROUP', 'OKOGU_GROUP', 'OKATO_REGIONCODE', 'OKATO_FED'] + ['WORKERSRANGE', 'OKVED_CODE', 'OKVED_CODE_1', 'OKVED_CODE_2', 'OKVED_CODE_3']\n",
    "    date_names = ['SIGN_DATE', 'DATEFIRSTREG', 'TAXREG_REGDATE', 'TAXREGPAY_REGDATE', 'BIRTHDATE']\n",
    "        \n",
    "    data[['OKVED_CODE_1', 'OKVED_CODE_2', 'OKVED_CODE_3']] = data['OKVED_CODE'].str.split('.', 3, expand=True)\n",
    "        \n",
    "    for name in group_names + ['id_client']:\n",
    "        data[name] = data[name].fillna(0)\n",
    "        tmp = data[name].value_counts()\n",
    "        tmp = tmp + 0.1 * np.random.randn(len(tmp))\n",
    "        data[name] = data[name].map(tmp)\n",
    "\n",
    "    for name in date_names:\n",
    "        data = preprocess_date_feature(data, name)\n",
    "        data = parse_date_feature(data, name)\n",
    "    data['TAXREG_REGDATE_DIFF_DATEFIRSTREG'] = (data['TAXREG_REGDATE'] - data['DATEFIRSTREG']).astype(\"timedelta64[D]\")\n",
    "    data['SIGN_DATE_DIFF_DATEFIRSTREG'] = (data['SIGN_DATE'] - data['DATEFIRSTREG']).astype(\"timedelta64[D]\")\n",
    "    for name in ['TAXREG_REGDATE_DIFF_DATEFIRSTREG', 'SIGN_DATE_DIFF_DATEFIRSTREG']:\n",
    "        data = parse_date_feature(data, name)\n",
    "    for name in date_names + ['TAXREG_REGDATE_DIFF_DATEFIRSTREG', 'SIGN_DATE_DIFF_DATEFIRSTREG']:\n",
    "        data = process_date_feature(data, name)\n",
    "        \n",
    "\n",
    "    for tender in ['NUMBER_233_YEAR','NUMBER_233_EVER', 'NUMBER_95_YEAR','NUMBER_95_EVER']:\n",
    "        proces_tender(data, tender)\n",
    "\n",
    "    data.fillna(0, inplace=True)\n",
    "    data=(data-data.mean())/data.std()\n",
    "    \n",
    "    \n",
    "    return data"
   ]
  },
  {
   "cell_type": "code",
   "execution_count": 9,
   "id": "107d3f4c",
   "metadata": {
    "execution": {
     "iopub.execute_input": "2022-04-19T12:05:53.384178Z",
     "iopub.status.busy": "2022-04-19T12:05:53.378678Z",
     "iopub.status.idle": "2022-04-19T12:05:53.398184Z",
     "shell.execute_reply": "2022-04-19T12:05:53.397636Z",
     "shell.execute_reply.started": "2022-04-19T12:05:02.324823Z"
    },
    "papermill": {
     "duration": 0.04054,
     "end_time": "2022-04-19T12:05:53.398322",
     "exception": false,
     "start_time": "2022-04-19T12:05:53.357782",
     "status": "completed"
    },
    "tags": []
   },
   "outputs": [],
   "source": [
    "y_train = data_train.pop('TARGET').values # целевые значения\n",
    "y_train_full = data_train_full.pop('TARGET').values\n",
    "y_test = data_test.pop('TARGET').values\n",
    "\n",
    "#data_train.pop('id_client')\n",
    "#data_test.pop('id_client')\n",
    "#data_test_final.pop('id_client')\n",
    "#data_train_full.pop('id_client')\n",
    "data_train.pop('id_contract')\n",
    "data_test.pop('id_contract')\n",
    "data_test_final.pop('id_contract')\n",
    "data_train_full.pop('id_contract')\n",
    "\n",
    "data_test = data_test[data_train.columns] # на всякий случай - вдруг, перемешаны столбцы\n",
    "data_test_final = data_test_final[data_train.columns]"
   ]
  },
  {
   "cell_type": "code",
   "execution_count": 10,
   "id": "a88a8f5a",
   "metadata": {
    "execution": {
     "iopub.execute_input": "2022-04-19T12:05:53.426553Z",
     "iopub.status.busy": "2022-04-19T12:05:53.425743Z",
     "iopub.status.idle": "2022-04-19T12:05:57.636385Z",
     "shell.execute_reply": "2022-04-19T12:05:57.635567Z",
     "shell.execute_reply.started": "2022-04-19T12:05:02.363817Z"
    },
    "papermill": {
     "duration": 4.227757,
     "end_time": "2022-04-19T12:05:57.636559",
     "exception": false,
     "start_time": "2022-04-19T12:05:53.408802",
     "status": "completed"
    },
    "tags": []
   },
   "outputs": [],
   "source": [
    "data_train = makeX(data_train)\n",
    "data_train_full = makeX(data_train_full)\n",
    "data_test = makeX(data_test)\n",
    "data_test_final = makeX(data_test_final)"
   ]
  },
  {
   "cell_type": "code",
   "execution_count": 11,
   "id": "a5c4aecf",
   "metadata": {
    "execution": {
     "iopub.execute_input": "2022-04-19T12:05:57.664520Z",
     "iopub.status.busy": "2022-04-19T12:05:57.663829Z",
     "iopub.status.idle": "2022-04-19T12:05:58.736185Z",
     "shell.execute_reply": "2022-04-19T12:05:58.736648Z",
     "shell.execute_reply.started": "2022-04-19T12:05:06.551427Z"
    },
    "papermill": {
     "duration": 1.089263,
     "end_time": "2022-04-19T12:05:58.736839",
     "exception": false,
     "start_time": "2022-04-19T12:05:57.647576",
     "status": "completed"
    },
    "tags": []
   },
   "outputs": [],
   "source": [
    "import lightgbm as lgb\n",
    "\n",
    "model = lgb.LGBMClassifier(num_leaves=15,\n",
    "                           learning_rate=0.065,\n",
    "                           n_estimators=100,\n",
    "                           colsample_bytree=0.7,\n",
    "                           subsample=0.7,\n",
    "                           subsample_freq=1,\n",
    "                           objective='binary')\n"
   ]
  },
  {
   "cell_type": "code",
   "execution_count": 12,
   "id": "85ffb126",
   "metadata": {
    "execution": {
     "iopub.execute_input": "2022-04-19T12:05:58.764554Z",
     "iopub.status.busy": "2022-04-19T12:05:58.763582Z",
     "iopub.status.idle": "2022-04-19T12:05:59.513426Z",
     "shell.execute_reply": "2022-04-19T12:05:59.514059Z",
     "shell.execute_reply.started": "2022-04-19T12:05:07.602738Z"
    },
    "papermill": {
     "duration": 0.766385,
     "end_time": "2022-04-19T12:05:59.514249",
     "exception": false,
     "start_time": "2022-04-19T12:05:58.747864",
     "status": "completed"
    },
    "tags": []
   },
   "outputs": [
    {
     "name": "stdout",
     "output_type": "stream",
     "text": [
      "0.3309205995877116\n"
     ]
    }
   ],
   "source": [
    "# Обучаемся на малой обучающей выборке\n",
    "model.fit(data_train, y_train)\n",
    "\n",
    "a = model.predict_proba(data_test)[:, 1] # получаем ответ на нашей тестовой выборке\n",
    "print(log_loss(y_true=y_test, y_pred=a)) # log_loss на нашей тестовой выборке\n",
    "\n",
    "# Как улучшались результаты:\n",
    "# 0.4626960142226535\n",
    "# 0.45475393917635376\n",
    "# 0.4426124847410594\n",
    "# 0.3254580116197714\n",
    "# 0.31290211089406095 -- тут скорее всего было переобучение по id_client\n",
    "# 0.3309040548024119"
   ]
  },
  {
   "cell_type": "code",
   "execution_count": 13,
   "id": "e529a364",
   "metadata": {
    "execution": {
     "iopub.execute_input": "2022-04-19T12:05:59.540503Z",
     "iopub.status.busy": "2022-04-19T12:05:59.539910Z",
     "iopub.status.idle": "2022-04-19T12:05:59.829853Z",
     "shell.execute_reply": "2022-04-19T12:05:59.829331Z",
     "shell.execute_reply.started": "2022-04-19T12:05:08.394672Z"
    },
    "papermill": {
     "duration": 0.304485,
     "end_time": "2022-04-19T12:05:59.830008",
     "exception": false,
     "start_time": "2022-04-19T12:05:59.525523",
     "status": "completed"
    },
    "tags": []
   },
   "outputs": [
    {
     "data": {
      "text/plain": [
       "<AxesSubplot:>"
      ]
     },
     "execution_count": 13,
     "metadata": {},
     "output_type": "execute_result"
    },
    {
     "data": {
      "image/png": "[encoded data removed]",
      "text/plain": [
       "<Figure size 432x288 with 1 Axes>"
      ]
     },
     "metadata": {
      "needs_background": "light"
     },
     "output_type": "display_data"
    }
   ],
   "source": [
    "(pd.Series(model.feature_importances_, index=data_train.columns)\n",
    "   .nlargest(10)\n",
    "   .plot(kind='barh'))"
   ]
  },
  {
   "cell_type": "code",
   "execution_count": 14,
   "id": "8279db98",
   "metadata": {
    "execution": {
     "iopub.execute_input": "2022-04-19T12:05:59.861839Z",
     "iopub.status.busy": "2022-04-19T12:05:59.861151Z",
     "iopub.status.idle": "2022-04-19T12:06:00.693679Z",
     "shell.execute_reply": "2022-04-19T12:06:00.693094Z",
     "shell.execute_reply.started": "2022-04-19T12:05:08.674021Z"
    },
    "papermill": {
     "duration": 0.851206,
     "end_time": "2022-04-19T12:06:00.693854",
     "exception": false,
     "start_time": "2022-04-19T12:05:59.842648",
     "status": "completed"
    },
    "tags": []
   },
   "outputs": [
    {
     "name": "stdout",
     "output_type": "stream",
     "text": [
      "      id_contract    TARGET\n",
      "0            1293  0.009242\n",
      "1            1962  0.777074\n",
      "2            6350  0.148303\n",
      "3           14567  0.032912\n",
      "4            9267  0.077225\n",
      "...           ...       ...\n",
      "3574         6740  0.056055\n",
      "3575        15156  0.018041\n",
      "3576        13941  0.834901\n",
      "3577        10448  0.749911\n",
      "3578        16447  0.013134\n",
      "\n",
      "[3579 rows x 2 columns]\n"
     ]
    }
   ],
   "source": [
    "model.fit(data_train_full, y_train_full) # обучаемся на всей выборке\n",
    "final_result = model.predict_proba(data_test_final)[:, 1] # получаем ответ на финальной тестовой выборке\n",
    "df = pd.DataFrame({'id_contract': data_test_final_orig.id_contract.values, 'TARGET': final_result})\n",
    "print(df)\n",
    "df.to_csv('ans.csv', sep=',', index=False) # сохраняем ответ"
   ]
  },
  {
   "cell_type": "code",
   "execution_count": null,
   "id": "5a0eb910",
   "metadata": {},
   "outputs": [],
   "source": []
  }
 ],
 "metadata": {
  "kernelspec": {
   "display_name": "Python 3",
   "language": "python",
   "name": "python3"
  },
  "language_info": {
   "codemirror_mode": {
    "name": "ipython",
    "version": 3
   },
   "file_extension": ".py",
   "mimetype": "text/x-python",
   "name": "python",
   "nbconvert_exporter": "python",
   "pygments_lexer": "ipython3",
   "version": "3.9.7"
  },
  "papermill": {
   "default_parameters": {},
   "duration": 18.856133,
   "end_time": "2022-04-19T12:06:01.518392",
   "environment_variables": {},
   "exception": null,
   "input_path": "__notebook__.ipynb",
   "output_path": "__notebook__.ipynb",
   "parameters": {},
   "start_time": "2022-04-19T12:05:42.662259",
   "version": "2.3.3"
  }
 },
 "nbformat": 4,
 "nbformat_minor": 5
}
